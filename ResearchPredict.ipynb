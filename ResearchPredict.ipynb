{
 "cells": [
  {
   "cell_type": "code",
   "execution_count": null,
   "metadata": {},
   "outputs": [],
   "source": [
    "import numpy as np\n",
    "import tensorflow as tf\n",
    "from os import listdir\n",
    "from random import shuffle\n",
    "import cv2\n",
    "model = tf.keras.models.load_model(\"model.h5\")\n",
    "model.summary()\n",
    "image = []\n",
    "for i in range(32):\n",
    "    for j in range(32):\n",
    "        image.append(input(\"Enter the element number \",j,\" of the row number \",i,\" of 32x32 Image with 3 channels: \"))"
   ]
  },
  {
   "cell_type": "code",
   "execution_count": null,
   "metadata": {},
   "outputs": [],
   "source": [
    "TerrainType = model.predict(image)\n",
    "print(TerrainType)"
   ]
  }
 ],
 "metadata": {
  "language_info": {
   "name": "python"
  },
  "orig_nbformat": 4
 },
 "nbformat": 4,
 "nbformat_minor": 2
}

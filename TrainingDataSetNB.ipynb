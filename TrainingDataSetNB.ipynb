{
 "cells": [
  {
   "cell_type": "code",
   "execution_count": 45,
   "metadata": {},
   "outputs": [],
   "source": [
    "import numpy as np\n",
    "from random import shuffle\n",
    "import matplotlib.pyplot as plt\n",
    "from os import listdir\n",
    "import cv2\n",
    "from tensorflow.keras import layers\n",
    "import pickle\n"
   ]
  },
  {
   "cell_type": "code",
   "execution_count": 12,
   "metadata": {},
   "outputs": [
    {
     "name": "stdout",
     "output_type": "stream",
     "text": [
      "Working %%%%%%%%%%%%%%%%%%%%%%%%%%%%%%%%%%%%%%%%%%%%%%%%%%%%%\n",
      "1\n",
      "2\n",
      "3\n",
      "4\n",
      "5\n",
      "6\n",
      "7\n",
      "8\n",
      "9\n",
      "10\n",
      "11\n",
      "12\n",
      "13\n",
      "14\n",
      "15\n",
      "16\n",
      "17\n",
      "18\n",
      "19\n",
      "20\n",
      "21\n",
      "22\n",
      "23\n",
      "24\n",
      "25\n",
      "26\n",
      "27\n",
      "28\n",
      "29\n",
      "30\n",
      "31\n",
      "32\n",
      "33\n",
      "34\n",
      "35\n",
      "36\n",
      "37\n",
      "38\n",
      "39\n",
      "40\n",
      "41\n",
      "42\n",
      "43\n",
      "44\n",
      "45\n",
      "46\n",
      "47\n",
      "48\n",
      "49\n",
      "50\n",
      "51\n",
      "52\n",
      "53\n",
      "54\n",
      "55\n",
      "56\n",
      "57\n",
      "58\n",
      "59\n",
      "60\n",
      "61\n",
      "62\n",
      "63\n",
      "64\n",
      "65\n",
      "66\n",
      "67\n",
      "68\n",
      "69\n",
      "70\n",
      "71\n",
      "72\n",
      "73\n",
      "74\n",
      "75\n",
      "76\n",
      "77\n",
      "78\n",
      "79\n",
      "80\n",
      "81\n",
      "82\n",
      "83\n",
      "84\n",
      "85\n",
      "86\n",
      "87\n",
      "88\n",
      "89\n",
      "90\n",
      "91\n",
      "92\n",
      "93\n",
      "94\n",
      "95\n",
      "96\n",
      "97\n",
      "98\n",
      "99\n",
      "100\n"
     ]
    }
   ],
   "source": [
    "training_data = []\n",
    "ok = False\n",
    "categories = ['ain_begin' , 'ain_end' , 'ain_middle' , 'ain_regular','alif_end' , 'alif_hamza' , 'alif_regular','beh_begin' , 'beh_end' , 'beh_middle' , 'beh_regular','dal_end' , 'dal_regular','feh_begin' , 'feh_end' , 'feh_middle' , 'feh_regular','heh_begin' , 'heh_end' , 'heh_middle' , 'heh_regular','jeem_begin' , 'jeem_end' , 'jeem_middle' , 'jeem_regular','kaf_begin' , 'kaf_end' , 'kaf_middle' , 'kaf_regular','lam_alif','lam_begin' , 'lam_end' , 'lam_middle' , 'lam_regular','meem_begin' , 'meem_end' , 'meem_middle' , 'meem_regular','noon_begin' , 'noon_end' , 'noon_middle' , 'noon_regular','qaf_begin' , 'qaf_end' , 'qaf_middle' , 'qaf_regular','raa_end' , 'raa_regular','ain_begin' , 'ain_end' , 'ain_regular','sad_begin' , 'sad_end' , 'sad_middle' , 'sad_regular','seen_begin' , 'seen_end' , 'seen_middle' , 'seen_regular','tah_end' , 'tah_middle' , 'tah_regular','waw_end' , 'waw_regular','yaa_begin' , 'yaa_end' , 'yaa_middle' , 'yaa_regular']\n",
    "test_directory = \"\"\n",
    "train_directory = \"\"\n",
    "directory = './train/isolated_alphabets_per_alphabet'\n",
    "def training_data_initializer():\n",
    "    counter = 0\n",
    "    print(\"Working %%%%%%%%%%%%%%%%%%%%%%%%%%%%%%%%%%%%%%%%%%%%%%%%%%%%%\")\n",
    "    for category in categories:\n",
    "        path = directory+'/'+category\n",
    "        Image_category = categories.index(category)\n",
    "        for img in listdir(path):\n",
    "            try:\n",
    "                counter+=1\n",
    "                print(counter)\n",
    "                if counter % 100 == 0:\n",
    "                    ok = True\n",
    "                    break\n",
    "                img_array = cv2.imread(f'{path}/{img}', cv2.IMREAD_GRAYSCALE)\n",
    "                new_array = cv2.resize(img_array , (64 , 64))\n",
    "                training_data.append([new_array , Image_category])\n",
    "            except Exception as e:\n",
    "                pass\n",
    "        if ok :\n",
    "            break\n",
    "training_data_initializer()\n",
    "\n",
    "shuffle(training_data)\n",
    "\n",
    "#nsamples, nx, ny = np.array(training_data).shape()\n",
    "#d2_train_dataset = training_data.reshape((nsamples,nx*ny))"
   ]
  },
  {
   "cell_type": "code",
   "execution_count": 27,
   "metadata": {},
   "outputs": [
    {
     "data": {
      "text/plain": [
       "0"
      ]
     },
     "execution_count": 27,
     "metadata": {},
     "output_type": "execute_result"
    }
   ],
   "source": [
    "training_data[0][1]"
   ]
  },
  {
   "cell_type": "code",
   "execution_count": 29,
   "metadata": {},
   "outputs": [
    {
     "data": {
      "text/plain": [
       "'pickle_out = open(\"X.pickle\" , \"wb\")\\npickle.dump(X , pickle_out)\\npickle_out.close()\\npickle_out = open(\"Y.pickle\" , \"wb\")\\npickle.dump(Y , pickle_out)\\npickle_out.close()'"
      ]
     },
     "execution_count": 29,
     "metadata": {},
     "output_type": "execute_result"
    }
   ],
   "source": [
    "X = []\n",
    "Y = []\n",
    "\n",
    "for features , label in training_data:\n",
    "    X.append(features)\n",
    "    Y.append(label)\n",
    "X = np.array(X).reshape(-1 , 64 , 64)\n",
    "\"\"\"pickle_out = open(\"X.pickle\" , \"wb\")\n",
    "pickle.dump(X , pickle_out)\n",
    "pickle_out.close()\n",
    "pickle_out = open(\"Y.pickle\" , \"wb\")\n",
    "pickle.dump(Y , pickle_out)\n",
    "pickle_out.close()\"\"\""
   ]
  },
  {
   "cell_type": "code",
   "execution_count": 34,
   "metadata": {},
   "outputs": [],
   "source": [
    "from sklearn.model_selection import train_test_split\n",
    "X_train , X_test , Y_train , Y_test = train_test_split(X , Y , test_size = 8 , random_state = 0)"
   ]
  },
  {
   "cell_type": "code",
   "execution_count": 42,
   "metadata": {},
   "outputs": [
    {
     "data": {
      "text/plain": [
       "(91, 64, 64)"
      ]
     },
     "execution_count": 42,
     "metadata": {},
     "output_type": "execute_result"
    }
   ],
   "source": [
    "X_train.shape"
   ]
  }
 ],
 "metadata": {
  "kernelspec": {
   "display_name": "Python 3",
   "language": "python",
   "name": "python3"
  },
  "language_info": {
   "codemirror_mode": {
    "name": "ipython",
    "version": 3
   },
   "file_extension": ".py",
   "mimetype": "text/x-python",
   "name": "python",
   "nbconvert_exporter": "python",
   "pygments_lexer": "ipython3",
   "version": "3.11.1"
  },
  "orig_nbformat": 4
 },
 "nbformat": 4,
 "nbformat_minor": 2
}
